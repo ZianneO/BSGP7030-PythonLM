{
 "cells": [
  {
   "cell_type": "markdown",
   "id": "740bab81-d6ce-47ae-9a59-9ea2e8bf9338",
   "metadata": {},
   "source": [
    "# Zianne Olverson"
   ]
  },
  {
   "cell_type": "code",
   "execution_count": 1,
   "id": "6ecd5fa5-9cd9-4152-93d2-cbb09f90ee66",
   "metadata": {},
   "outputs": [],
   "source": [
    "import pandas as pd\n",
    "import matplotlib.pyplot as plt"
   ]
  },
  {
   "cell_type": "markdown",
   "id": "e9407307-9e17-4651-a09d-8669e6907704",
   "metadata": {},
   "source": [
    "## Loading and displaying data "
   ]
  },
  {
   "cell_type": "code",
   "execution_count": 21,
   "id": "9b9942a9-18bb-4dcc-8c2d-2070a9ff2a65",
   "metadata": {},
   "outputs": [
    {
     "name": "stdout",
     "output_type": "stream",
     "text": [
      "# Moran 1997. Steady-state kinetics of single nucleotide insertion\n",
      "\n",
      "# A across from F in the template\n",
      "\n",
      "# data extracted from Hanes-Woolf plot\n",
      "\n",
      "# [S] in micromolar; V in %/min\n",
      "\n",
      "# Biochem 6761, MPF\n",
      "\n",
      "[S]\t[S]/V\n",
      "\n",
      "1\t0.49\n",
      "\n",
      "2\t0.38\n",
      "\n",
      "5\t0.43\n",
      "\n",
      "10\t0.68\n",
      "\n",
      "20\t0.86\n",
      "\n",
      "50\t1.38\n",
      "\n",
      "100\t2.80\n",
      "\n",
      "200\t4.30\n",
      "\n"
     ]
    }
   ],
   "source": [
    "with open(\"Moran-A-F.txt\") as file:\n",
    "    for i in range(15):  # Print the first 10 lines\n",
    "        print(file.readline())"
   ]
  },
  {
   "cell_type": "code",
   "execution_count": 22,
   "id": "854e816a-a7d5-4944-ae3e-d52724d34658",
   "metadata": {},
   "outputs": [
    {
     "name": "stdout",
     "output_type": "stream",
     "text": [
      "# Moran 1997. Steady-state kinetics of single nucleotide insertion\n",
      "\n",
      "# C across from F in the template\n",
      "\n",
      "# data extracted from Hanes-Woolf plot\n",
      "\n",
      "# [S] in micromolar; V in %/min\n",
      "\n",
      "# Biochem 6761, MPF\n",
      "\n",
      "[S]\t[S]/V\n",
      "\n",
      "40\t271\n",
      "\n",
      "80\t462\n",
      "\n",
      "160\t777\n",
      "\n",
      "500\t794\n",
      "\n",
      "1000\t987\n",
      "\n",
      "2000\t1622\n",
      "\n",
      "3000\t2677\n",
      "\n",
      "5000\t4651\n",
      "\n"
     ]
    }
   ],
   "source": [
    "with open(\"Moran-C-F.txt\") as file:\n",
    "    for i in range(15):  # Print the first 10 lines\n",
    "        print(file.readline())"
   ]
  },
  {
   "cell_type": "code",
   "execution_count": null,
   "id": "b616a80e-744b-4e41-b8c8-c6e9a7066a48",
   "metadata": {},
   "outputs": [],
   "source": []
  }
 ],
 "metadata": {
  "kernelspec": {
   "display_name": "Python 3 (ipykernel)",
   "language": "python",
   "name": "python3"
  },
  "language_info": {
   "codemirror_mode": {
    "name": "ipython",
    "version": 3
   },
   "file_extension": ".py",
   "mimetype": "text/x-python",
   "name": "python",
   "nbconvert_exporter": "python",
   "pygments_lexer": "ipython3",
   "version": "3.9.18"
  }
 },
 "nbformat": 4,
 "nbformat_minor": 5
}
