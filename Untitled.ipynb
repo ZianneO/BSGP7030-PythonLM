{
 "cells": [
  {
   "cell_type": "markdown",
   "id": "740bab81-d6ce-47ae-9a59-9ea2e8bf9338",
   "metadata": {},
   "source": [
    "# Zianne Olverson"
   ]
  },
  {
   "cell_type": "code",
   "execution_count": 1,
   "id": "6ecd5fa5-9cd9-4152-93d2-cbb09f90ee66",
   "metadata": {},
   "outputs": [],
   "source": [
    "import pandas as pd\n",
    "import matplotlib.pyplot as plt"
   ]
  },
  {
   "cell_type": "markdown",
   "id": "e9407307-9e17-4651-a09d-8669e6907704",
   "metadata": {},
   "source": [
    "## Loading data in "
   ]
  },
  {
   "cell_type": "code",
   "execution_count": 6,
   "id": "9b9942a9-18bb-4dcc-8c2d-2070a9ff2a65",
   "metadata": {},
   "outputs": [],
   "source": [
    "data_melt1 = pd.read_csv(\"melt1.csv\", on_bad_lines='skip')"
   ]
  },
  {
   "cell_type": "code",
   "execution_count": 7,
   "id": "8bc51ec7-4db0-4fda-9fc8-9e820a6c0025",
   "metadata": {},
   "outputs": [],
   "source": [
    "data_melt0 = pd.read_csv(\"melt0.csv\", on_bad_lines='skip')"
   ]
  },
  {
   "cell_type": "code",
   "execution_count": 11,
   "id": "fe870b23-f959-46b4-95e6-53e0e65c1bed",
   "metadata": {},
   "outputs": [
    {
     "name": "stdout",
     "output_type": "stream",
     "text": [
      "  # Unimolecular UV melting data for NA hairpin #1\n",
      "0    # T in degrees C. Fraction ranges from 0 to 1\n",
      "  # Unimolecular UV melting data for NA hairpin #0\n",
      "0    # T in degrees C. Fraction ranges from 0 to 1\n"
     ]
    }
   ],
   "source": [
    "print(data_melt1.head())\n",
    "print(data_melt0.head())"
   ]
  },
  {
   "cell_type": "code",
   "execution_count": null,
   "id": "fd66f277-0171-4dca-bea0-41f747ff1880",
   "metadata": {},
   "outputs": [],
   "source": []
  }
 ],
 "metadata": {
  "kernelspec": {
   "display_name": "Python 3 (ipykernel)",
   "language": "python",
   "name": "python3"
  },
  "language_info": {
   "codemirror_mode": {
    "name": "ipython",
    "version": 3
   },
   "file_extension": ".py",
   "mimetype": "text/x-python",
   "name": "python",
   "nbconvert_exporter": "python",
   "pygments_lexer": "ipython3",
   "version": "3.9.18"
  }
 },
 "nbformat": 4,
 "nbformat_minor": 5
}
